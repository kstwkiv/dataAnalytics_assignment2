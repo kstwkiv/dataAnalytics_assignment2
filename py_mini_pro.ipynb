{
 "cells": [
  {
   "cell_type": "markdown",
   "id": "d0aedb43-7746-453a-8275-db87fb1577eb",
   "metadata": {},
   "source": [
    "##Mini Project"
   ]
  },
  {
   "cell_type": "code",
   "execution_count": 7,
   "id": "432fd4e7-41fc-4bcf-8ed0-fe3696932cd6",
   "metadata": {},
   "outputs": [
    {
     "name": "stdin",
     "output_type": "stream",
     "text": [
      "Enter the upper bound for the random number:  50\n",
      "Guess the number (between 1 and 50):  2\n"
     ]
    },
    {
     "name": "stdout",
     "output_type": "stream",
     "text": [
      "Oh no! Incorrect. The number is HIGHER.\n"
     ]
    },
    {
     "name": "stdin",
     "output_type": "stream",
     "text": [
      "Guess the number (between 1 and 50):  5\n"
     ]
    },
    {
     "name": "stdout",
     "output_type": "stream",
     "text": [
      "Oh no! Incorrect. The number is HIGHER.\n"
     ]
    },
    {
     "name": "stdin",
     "output_type": "stream",
     "text": [
      "Guess the number (between 1 and 50):  50\n"
     ]
    },
    {
     "name": "stdout",
     "output_type": "stream",
     "text": [
      "Oh no! Incorrect. Th number is LOWER.\n"
     ]
    },
    {
     "name": "stdin",
     "output_type": "stream",
     "text": [
      "Guess the number (between 1 and 50):  49\n"
     ]
    },
    {
     "name": "stdout",
     "output_type": "stream",
     "text": [
      "Oh no! Incorrect. Th number is LOWER.\n"
     ]
    },
    {
     "name": "stdin",
     "output_type": "stream",
     "text": [
      "Guess the number (between 1 and 50):  23\n"
     ]
    },
    {
     "name": "stdout",
     "output_type": "stream",
     "text": [
      "Oh no! Incorrect. The number is HIGHER.\n"
     ]
    },
    {
     "name": "stdin",
     "output_type": "stream",
     "text": [
      "Guess the number (between 1 and 50):  30\n"
     ]
    },
    {
     "name": "stdout",
     "output_type": "stream",
     "text": [
      "Oh no! Incorrect. The number is HIGHER.\n"
     ]
    },
    {
     "name": "stdin",
     "output_type": "stream",
     "text": [
      "Guess the number (between 1 and 50):  35\n"
     ]
    },
    {
     "name": "stdout",
     "output_type": "stream",
     "text": [
      "Oh no! Incorrect. The number is HIGHER.\n"
     ]
    },
    {
     "name": "stdin",
     "output_type": "stream",
     "text": [
      "Guess the number (between 1 and 50):  39\n"
     ]
    },
    {
     "name": "stdout",
     "output_type": "stream",
     "text": [
      "Oh no! Incorrect. Th number is LOWER.\n"
     ]
    },
    {
     "name": "stdin",
     "output_type": "stream",
     "text": [
      "Guess the number (between 1 and 50):  37\n"
     ]
    },
    {
     "name": "stdout",
     "output_type": "stream",
     "text": [
      "Oh no! Incorrect. The number is HIGHER.\n"
     ]
    },
    {
     "name": "stdin",
     "output_type": "stream",
     "text": [
      "Guess the number (between 1 and 50):  38\n"
     ]
    },
    {
     "name": "stdout",
     "output_type": "stream",
     "text": [
      "You slayed it!\n",
      "Number of trials: 10\n"
     ]
    }
   ],
   "source": [
    "import random\n",
    "def guess_num(upper_bound):\n",
    "    secret_num=random.randint(1,upper_bound)\n",
    "    attempts=0\n",
    "    while True:\n",
    "        try:\n",
    "            guess=int(input(f\"Guess the number (between 1 and {upper_bound}): \"))\n",
    "            attempts += 1\n",
    "            if guess==secret_num:\n",
    "                print(\"You slayed it!\")\n",
    "                print(f\"Number of trials: {attempts}\")\n",
    "                break\n",
    "            elif guess<secret_num:\n",
    "                print(\"Oh no! Incorrect. The number is HIGHER.\")\n",
    "            else:\n",
    "                print(\"Oh no! Incorrect. Th number is LOWER.\")\n",
    "        except ValueError:\n",
    "            print(\"Invalid Input! Please enter a valid integer.\")\n",
    "if __name__ == \"__main__\":\n",
    "    upper_bound = int(input(\"Enter the upper bound for the random number: \"))\n",
    "    guess_num(upper_bound)"
   ]
  },
  {
   "cell_type": "code",
   "execution_count": null,
   "id": "398334e7-317b-46e8-a5b7-4113344ed767",
   "metadata": {},
   "outputs": [],
   "source": []
  }
 ],
 "metadata": {
  "kernelspec": {
   "display_name": "Python 3 (ipykernel)",
   "language": "python",
   "name": "python3"
  },
  "language_info": {
   "codemirror_mode": {
    "name": "ipython",
    "version": 3
   },
   "file_extension": ".py",
   "mimetype": "text/x-python",
   "name": "python",
   "nbconvert_exporter": "python",
   "pygments_lexer": "ipython3",
   "version": "3.11.7"
  },
  "widgets": {
   "application/vnd.jupyter.widget-state+json": {
    "state": {},
    "version_major": 2,
    "version_minor": 0
   }
  }
 },
 "nbformat": 4,
 "nbformat_minor": 5
}
