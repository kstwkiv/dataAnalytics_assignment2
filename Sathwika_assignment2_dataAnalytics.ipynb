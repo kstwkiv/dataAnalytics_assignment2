{
 "cells": [
  {
   "cell_type": "markdown",
   "id": "bd234312-ba77-4131-9882-d221c3e832a8",
   "metadata": {},
   "source": [
    "## Assignment 2"
   ]
  },
  {
   "cell_type": "markdown",
   "id": "3dfae3f5-f7ae-476f-8d87-24ec1edfcbbe",
   "metadata": {},
   "source": [
    "##TASK1"
   ]
  },
  {
   "cell_type": "code",
   "execution_count": 15,
   "id": "9a94a0a5-3ff8-4c8e-8ba0-4d0c4038a07b",
   "metadata": {},
   "outputs": [
    {
     "name": "stdin",
     "output_type": "stream",
     "text": [
      "Enter the start of the range:  2\n",
      "Enter the end of the range:  50\n"
     ]
    },
    {
     "name": "stdout",
     "output_type": "stream",
     "text": [
      "Number of perfect squarees between 2 and 50 is: 6\n"
     ]
    }
   ],
   "source": [
    "import math\n",
    "def countPerfectSquares(s,e):\n",
    "    count=0\n",
    "    for n in range(s,e+1):\n",
    "        sqrt=math.isqrt(n)\n",
    "        if sqrt*sqrt==n:\n",
    "            count+=1\n",
    "    return count \n",
    "s=int(input(\"Enter the start of the range: \"))\n",
    "e=int(input(\"Enter the end of the range: \"))\n",
    "num_perfect_Squares=countPerfectSquares(s,e)\n",
    "print(f\"Number of perfect squarees between {s} and {e} is: {num_perfect_Squares}\")"
   ]
  },
  {
   "cell_type": "markdown",
   "id": "b5e0ca35-65e2-42b8-8e54-6ee9af388209",
   "metadata": {},
   "source": [
    "##TASK2"
   ]
  },
  {
   "cell_type": "code",
   "execution_count": 14,
   "id": "61c49908-4744-451c-849c-605a204984c5",
   "metadata": {},
   "outputs": [
    {
     "name": "stdin",
     "output_type": "stream",
     "text": [
      "Enter Pattern Rows =  6\n"
     ]
    },
    {
     "name": "stdout",
     "output_type": "stream",
     "text": [
      "\n",
      "\n",
      "Pattern is here!!\n",
      "\n",
      "*\n",
      "**\n",
      "***\n",
      "****\n",
      "*****\n",
      "******\n",
      "*****\n",
      "****\n",
      "***\n",
      "**\n",
      "*\n"
     ]
    }
   ],
   "source": [
    "rows = int(input(\"Enter Pattern Rows = \"))\n",
    "print(\"\\n\")\n",
    "print(\"Pattern is here!!\\n\") \n",
    "\n",
    "for i in range(rows):\n",
    "    for j in range(0, i + 1):\n",
    "        print('*', end = '')\n",
    "    print()\n",
    "\n",
    "for i in range(1, rows):\n",
    "    for j in range(i, rows):\n",
    "        print('*', end = '')\n",
    "    print()"
   ]
  },
  {
   "cell_type": "markdown",
   "id": "ec137387-f0d4-4142-8a10-505d0ba9ba9d",
   "metadata": {},
   "source": [
    "##TASK3"
   ]
  },
  {
   "cell_type": "code",
   "execution_count": 12,
   "id": "c5cd2b3d-96c4-4f35-95bf-191e4e9cdace",
   "metadata": {},
   "outputs": [
    {
     "name": "stdin",
     "output_type": "stream",
     "text": [
      "Enter a number:  5\n"
     ]
    },
    {
     "name": "stdout",
     "output_type": "stream",
     "text": [
      "5 is a prime number.\n"
     ]
    }
   ],
   "source": [
    "def is_prime(num):\n",
    "    if num <= 1:\n",
    "        return False\n",
    "    if num == 2:\n",
    "        return True  \n",
    "    if num % 2 == 0:\n",
    "        return False \n",
    "    sqrt_num = int(num**0.5) + 1\n",
    "    for i in range(3, sqrt_num, 2):\n",
    "        if num % i == 0:\n",
    "            return False\n",
    "\n",
    "    return True\n",
    "\n",
    "num = int(input(\"Enter a number: \"))\n",
    "\n",
    "if is_prime(num):\n",
    "    print(f\"{num} is a prime number.\")\n",
    "else:\n",
    "    print(f\"{num} is not a prime number.\")\n"
   ]
  },
  {
   "cell_type": "code",
   "execution_count": null,
   "id": "f483b282-52af-4db8-9ea1-0294bc7ba46c",
   "metadata": {},
   "outputs": [],
   "source": []
  }
 ],
 "metadata": {
  "kernelspec": {
   "display_name": "Python 3 (ipykernel)",
   "language": "python",
   "name": "python3"
  },
  "language_info": {
   "codemirror_mode": {
    "name": "ipython",
    "version": 3
   },
   "file_extension": ".py",
   "mimetype": "text/x-python",
   "name": "python",
   "nbconvert_exporter": "python",
   "pygments_lexer": "ipython3",
   "version": "3.11.7"
  },
  "widgets": {
   "application/vnd.jupyter.widget-state+json": {
    "state": {},
    "version_major": 2,
    "version_minor": 0
   }
  }
 },
 "nbformat": 4,
 "nbformat_minor": 5
}
